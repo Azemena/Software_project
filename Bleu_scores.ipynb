{
 "cells": [
  {
   "cell_type": "code",
   "execution_count": 42,
   "metadata": {},
   "outputs": [],
   "source": []
  },
  {
   "cell_type": "markdown",
   "metadata": {},
   "source": [
    "# Computation of the Mean and the sum of bleu1, bleu2, bleu3, bleu4"
   ]
  },
  {
   "cell_type": "code",
   "execution_count": 80,
   "metadata": {},
   "outputs": [],
   "source": [
    "path = (\"/home/Azemena/Bureau/software project/BLEU_scores.txt\")"
   ]
  },
  {
   "cell_type": "code",
   "execution_count": 82,
   "metadata": {},
   "outputs": [],
   "source": [
    "def scores(path):\n",
    "    bleu1 = []\n",
    "    bleu2 = []\n",
    "    bleu3 = []\n",
    "    bleu4 = []\n",
    "    with open(path) as file:\n",
    "        \n",
    "        bleu = file.readlines()\n",
    "        \n",
    "        for i in range(1,len(bleu),6):\n",
    "            bleu1.append(float(bleu[i][8:-1]))\n",
    "            \n",
    "        for i in range(2,len(bleu),6):\n",
    "            bleu2.append(float(bleu[i][8:-1]))\n",
    "\n",
    "        for i in range(3,len(bleu),6):\n",
    "            bleu3.append(float(bleu[i][8:-1]))\n",
    "\n",
    "        for i in range(4,len(bleu),6):\n",
    "            bleu4.append(float(bleu[i][8:-1]))\n",
    "            \n",
    "    return bleu1,bleu2,bleu3,bleu4\n",
    "\n",
    "bleu1,bleu2,bleu3,bleu4 = scores(path)\n"
   ]
  },
  {
   "cell_type": "markdown",
   "metadata": {},
   "source": [
    "# MEAN AND SUM OF BLEU1"
   ]
  },
  {
   "cell_type": "code",
   "execution_count": 83,
   "metadata": {},
   "outputs": [
    {
     "name": "stdout",
     "output_type": "stream",
     "text": [
      "12893\n",
      "11189.725646000004\n",
      "0.8678915416117277\n"
     ]
    }
   ],
   "source": [
    "print(len(bleu1))\n",
    "print(sum(bleu1))\n",
    "mean_bleu1 = sum(bleu1)/len(bleu1)\n",
    "print(mean_bleu1)"
   ]
  },
  {
   "cell_type": "markdown",
   "metadata": {},
   "source": [
    "# MEAN AND SUM OF BLEU2"
   ]
  },
  {
   "cell_type": "code",
   "execution_count": 84,
   "metadata": {},
   "outputs": [
    {
     "name": "stdout",
     "output_type": "stream",
     "text": [
      "12893\n",
      "10727.649554999978\n",
      "0.8320522419142153\n"
     ]
    }
   ],
   "source": [
    "print(len(bleu2))\n",
    "print(sum(bleu2))\n",
    "mean_bleu2 = sum(bleu2)/len(bleu2)\n",
    "print(mean_bleu2)"
   ]
  },
  {
   "cell_type": "markdown",
   "metadata": {},
   "source": [
    "# MEAN AND SUM OF BLEU3"
   ]
  },
  {
   "cell_type": "code",
   "execution_count": 85,
   "metadata": {},
   "outputs": [
    {
     "name": "stdout",
     "output_type": "stream",
     "text": [
      "12893\n",
      "10772.168102000074\n",
      "0.8355051657488617\n"
     ]
    }
   ],
   "source": [
    "print(len(bleu3))\n",
    "print(sum(bleu3))\n",
    "mean_bleu3 = sum(bleu3)/len(bleu3)\n",
    "print(mean_bleu3)"
   ]
  },
  {
   "cell_type": "markdown",
   "metadata": {},
   "source": [
    "# MEAN AND SUM OF BLEU4"
   ]
  },
  {
   "cell_type": "code",
   "execution_count": 86,
   "metadata": {},
   "outputs": [
    {
     "name": "stdout",
     "output_type": "stream",
     "text": [
      "12893\n",
      "10305.569880999983\n",
      "0.7993151230124861\n"
     ]
    }
   ],
   "source": [
    "print(len(bleu4))\n",
    "print(sum(bleu4))\n",
    "mean_bleu4 = sum(bleu4)/len(bleu4)\n",
    "print(mean_bleu4)"
   ]
  },
  {
   "cell_type": "code",
   "execution_count": null,
   "metadata": {},
   "outputs": [],
   "source": []
  }
 ],
 "metadata": {
  "kernelspec": {
   "display_name": "Python 3",
   "language": "python",
   "name": "python3"
  },
  "language_info": {
   "codemirror_mode": {
    "name": "ipython",
    "version": 3
   },
   "file_extension": ".py",
   "mimetype": "text/x-python",
   "name": "python",
   "nbconvert_exporter": "python",
   "pygments_lexer": "ipython3",
   "version": "3.8.3"
  }
 },
 "nbformat": 4,
 "nbformat_minor": 4
}
